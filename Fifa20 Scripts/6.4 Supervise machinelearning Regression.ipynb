{
 "cells": [
  {
   "cell_type": "markdown",
   "id": "6aaf421d",
   "metadata": {},
   "source": [
    "# 6.4 Machine Learning Part 1"
   ]
  },
  {
   "cell_type": "markdown",
   "id": "da03316d",
   "metadata": {},
   "source": [
    "#### This script contains the following:¶\n",
    "#### 1. Importing libraries and data\n",
    "#### 2. Data cleaning\n",
    "#### 3. Data prep for regression analysis\n",
    "#### 4. Regression analysis\n",
    "#### 5. Repeating steps for wage_eur and age"
   ]
  },
  {
   "cell_type": "markdown",
   "id": "d3404e0b",
   "metadata": {},
   "source": [
    "### 1. Importing libraries and data"
   ]
  },
  {
   "cell_type": "code",
   "execution_count": 1,
   "id": "68553898",
   "metadata": {},
   "outputs": [],
   "source": [
    "import pandas as pd\n",
    "import numpy as np\n",
    "import seaborn as sns\n",
    "import matplotlib\n",
    "import matplotlib.pyplot as plt\n",
    "import os\n",
    "import sklearn\n",
    "from sklearn.model_selection import train_test_split \n",
    "from sklearn.linear_model import LinearRegression\n",
    "from sklearn.metrics import mean_squared_error, r2_score"
   ]
  },
  {
   "cell_type": "code",
   "execution_count": 2,
   "id": "facfb90d",
   "metadata": {},
   "outputs": [],
   "source": [
    "# This option ensures that the graphs you create are displayed within the notebook without the need to \"call\" them specifically.\n",
    "\n",
    "%matplotlib inline"
   ]
  },
  {
   "cell_type": "code",
   "execution_count": 3,
   "id": "94798df4",
   "metadata": {},
   "outputs": [],
   "source": [
    "# Setting path to data\n",
    "path = r'C:\\Users\\Anwender\\Desktop\\ballfifa20'"
   ]
  },
  {
   "cell_type": "code",
   "execution_count": 4,
   "id": "e50e349d",
   "metadata": {},
   "outputs": [],
   "source": [
    "# Import the cleaned Data\n",
    "df_relationsip = pd.read_csv(os.path.join(path, '02 Data', 'Prepared Data', 'clean20_fifa_play.csv'), index_col = False)"
   ]
  },
  {
   "cell_type": "code",
   "execution_count": 5,
   "id": "3e96b2a8",
   "metadata": {},
   "outputs": [
    {
     "data": {
      "text/html": [
       "<div>\n",
       "<style scoped>\n",
       "    .dataframe tbody tr th:only-of-type {\n",
       "        vertical-align: middle;\n",
       "    }\n",
       "\n",
       "    .dataframe tbody tr th {\n",
       "        vertical-align: top;\n",
       "    }\n",
       "\n",
       "    .dataframe thead th {\n",
       "        text-align: right;\n",
       "    }\n",
       "</style>\n",
       "<table border=\"1\" class=\"dataframe\">\n",
       "  <thead>\n",
       "    <tr style=\"text-align: right;\">\n",
       "      <th></th>\n",
       "      <th>Unnamed: 0</th>\n",
       "      <th>ID</th>\n",
       "      <th>short_name</th>\n",
       "      <th>long_name</th>\n",
       "      <th>age</th>\n",
       "      <th>height_cm</th>\n",
       "      <th>weight_kg</th>\n",
       "      <th>nationality</th>\n",
       "      <th>club</th>\n",
       "      <th>overall</th>\n",
       "      <th>...</th>\n",
       "      <th>passing</th>\n",
       "      <th>dribbling</th>\n",
       "      <th>defending</th>\n",
       "      <th>physic</th>\n",
       "      <th>power_shot_power</th>\n",
       "      <th>power_jumping</th>\n",
       "      <th>power_long_shots</th>\n",
       "      <th>mentality_aggression</th>\n",
       "      <th>mentality_interceptions</th>\n",
       "      <th>mentality_penalties</th>\n",
       "    </tr>\n",
       "  </thead>\n",
       "  <tbody>\n",
       "    <tr>\n",
       "      <th>0</th>\n",
       "      <td>0</td>\n",
       "      <td>158023</td>\n",
       "      <td>L. Messi</td>\n",
       "      <td>Lionel Andrés Messi Cuccittini</td>\n",
       "      <td>32</td>\n",
       "      <td>170</td>\n",
       "      <td>72</td>\n",
       "      <td>Argentina</td>\n",
       "      <td>FC Barcelona</td>\n",
       "      <td>94</td>\n",
       "      <td>...</td>\n",
       "      <td>92.000000</td>\n",
       "      <td>96.00000</td>\n",
       "      <td>39.000000</td>\n",
       "      <td>66.000000</td>\n",
       "      <td>86</td>\n",
       "      <td>68</td>\n",
       "      <td>94</td>\n",
       "      <td>48</td>\n",
       "      <td>40</td>\n",
       "      <td>75</td>\n",
       "    </tr>\n",
       "    <tr>\n",
       "      <th>1</th>\n",
       "      <td>1</td>\n",
       "      <td>20801</td>\n",
       "      <td>Cristiano Ronaldo</td>\n",
       "      <td>Cristiano Ronaldo dos Santos Aveiro</td>\n",
       "      <td>34</td>\n",
       "      <td>187</td>\n",
       "      <td>83</td>\n",
       "      <td>Portugal</td>\n",
       "      <td>Juventus</td>\n",
       "      <td>93</td>\n",
       "      <td>...</td>\n",
       "      <td>82.000000</td>\n",
       "      <td>89.00000</td>\n",
       "      <td>35.000000</td>\n",
       "      <td>78.000000</td>\n",
       "      <td>95</td>\n",
       "      <td>95</td>\n",
       "      <td>93</td>\n",
       "      <td>63</td>\n",
       "      <td>29</td>\n",
       "      <td>85</td>\n",
       "    </tr>\n",
       "    <tr>\n",
       "      <th>2</th>\n",
       "      <td>2</td>\n",
       "      <td>190871</td>\n",
       "      <td>Neymar Jr</td>\n",
       "      <td>Neymar da Silva Santos Junior</td>\n",
       "      <td>27</td>\n",
       "      <td>175</td>\n",
       "      <td>68</td>\n",
       "      <td>Brazil</td>\n",
       "      <td>Paris Saint-Germain</td>\n",
       "      <td>92</td>\n",
       "      <td>...</td>\n",
       "      <td>87.000000</td>\n",
       "      <td>95.00000</td>\n",
       "      <td>32.000000</td>\n",
       "      <td>58.000000</td>\n",
       "      <td>80</td>\n",
       "      <td>61</td>\n",
       "      <td>84</td>\n",
       "      <td>51</td>\n",
       "      <td>36</td>\n",
       "      <td>90</td>\n",
       "    </tr>\n",
       "    <tr>\n",
       "      <th>3</th>\n",
       "      <td>3</td>\n",
       "      <td>200389</td>\n",
       "      <td>J. Oblak</td>\n",
       "      <td>Jan Oblak</td>\n",
       "      <td>26</td>\n",
       "      <td>188</td>\n",
       "      <td>87</td>\n",
       "      <td>Slovenia</td>\n",
       "      <td>Atlético Madrid</td>\n",
       "      <td>91</td>\n",
       "      <td>...</td>\n",
       "      <td>57.206209</td>\n",
       "      <td>62.52562</td>\n",
       "      <td>51.506795</td>\n",
       "      <td>64.850767</td>\n",
       "      <td>59</td>\n",
       "      <td>78</td>\n",
       "      <td>12</td>\n",
       "      <td>34</td>\n",
       "      <td>19</td>\n",
       "      <td>11</td>\n",
       "    </tr>\n",
       "    <tr>\n",
       "      <th>4</th>\n",
       "      <td>4</td>\n",
       "      <td>183277</td>\n",
       "      <td>E. Hazard</td>\n",
       "      <td>Eden Hazard</td>\n",
       "      <td>28</td>\n",
       "      <td>175</td>\n",
       "      <td>74</td>\n",
       "      <td>Belgium</td>\n",
       "      <td>Real Madrid</td>\n",
       "      <td>91</td>\n",
       "      <td>...</td>\n",
       "      <td>86.000000</td>\n",
       "      <td>94.00000</td>\n",
       "      <td>35.000000</td>\n",
       "      <td>66.000000</td>\n",
       "      <td>82</td>\n",
       "      <td>56</td>\n",
       "      <td>80</td>\n",
       "      <td>54</td>\n",
       "      <td>41</td>\n",
       "      <td>88</td>\n",
       "    </tr>\n",
       "  </tbody>\n",
       "</table>\n",
       "<p>5 rows × 35 columns</p>\n",
       "</div>"
      ],
      "text/plain": [
       "   Unnamed: 0      ID         short_name                            long_name  \\\n",
       "0           0  158023           L. Messi       Lionel Andrés Messi Cuccittini   \n",
       "1           1   20801  Cristiano Ronaldo  Cristiano Ronaldo dos Santos Aveiro   \n",
       "2           2  190871          Neymar Jr        Neymar da Silva Santos Junior   \n",
       "3           3  200389           J. Oblak                            Jan Oblak   \n",
       "4           4  183277          E. Hazard                          Eden Hazard   \n",
       "\n",
       "   age  height_cm  weight_kg nationality                 club  overall  ...  \\\n",
       "0   32        170         72   Argentina         FC Barcelona       94  ...   \n",
       "1   34        187         83    Portugal             Juventus       93  ...   \n",
       "2   27        175         68      Brazil  Paris Saint-Germain       92  ...   \n",
       "3   26        188         87    Slovenia      Atlético Madrid       91  ...   \n",
       "4   28        175         74     Belgium          Real Madrid       91  ...   \n",
       "\n",
       "     passing  dribbling  defending     physic  power_shot_power  \\\n",
       "0  92.000000   96.00000  39.000000  66.000000                86   \n",
       "1  82.000000   89.00000  35.000000  78.000000                95   \n",
       "2  87.000000   95.00000  32.000000  58.000000                80   \n",
       "3  57.206209   62.52562  51.506795  64.850767                59   \n",
       "4  86.000000   94.00000  35.000000  66.000000                82   \n",
       "\n",
       "   power_jumping  power_long_shots mentality_aggression  \\\n",
       "0             68                94                   48   \n",
       "1             95                93                   63   \n",
       "2             61                84                   51   \n",
       "3             78                12                   34   \n",
       "4             56                80                   54   \n",
       "\n",
       "  mentality_interceptions  mentality_penalties  \n",
       "0                      40                   75  \n",
       "1                      29                   85  \n",
       "2                      36                   90  \n",
       "3                      19                   11  \n",
       "4                      41                   88  \n",
       "\n",
       "[5 rows x 35 columns]"
      ]
     },
     "execution_count": 5,
     "metadata": {},
     "output_type": "execute_result"
    }
   ],
   "source": [
    "df_relationsip.head()"
   ]
  },
  {
   "cell_type": "code",
   "execution_count": 6,
   "id": "03ec14ee",
   "metadata": {},
   "outputs": [
    {
     "data": {
      "text/plain": [
       "Index(['Unnamed: 0', 'ID', 'short_name', 'long_name', 'age', 'height_cm',\n",
       "       'weight_kg', 'nationality', 'club', 'overall', 'potential', 'value_eur',\n",
       "       'wage_eur', 'preferred_foot', 'international_reputation', 'weak_foot',\n",
       "       'skill_moves', 'work_rate', 'body_type', 'release_clause_eur',\n",
       "       'team_position', 'joined', 'contract_valid_until', 'pace', 'shooting',\n",
       "       'passing', 'dribbling', 'defending', 'physic', 'power_shot_power',\n",
       "       'power_jumping', 'power_long_shots', 'mentality_aggression',\n",
       "       'mentality_interceptions', 'mentality_penalties'],\n",
       "      dtype='object')"
      ]
     },
     "execution_count": 6,
     "metadata": {},
     "output_type": "execute_result"
    }
   ],
   "source": [
    "df_relationsip.columns"
   ]
  },
  {
   "cell_type": "code",
   "execution_count": 7,
   "id": "4d4b8129",
   "metadata": {},
   "outputs": [
    {
     "data": {
      "text/plain": [
       "(18038, 35)"
      ]
     },
     "execution_count": 7,
     "metadata": {},
     "output_type": "execute_result"
    }
   ],
   "source": [
    "df_relationsip.shape"
   ]
  },
  {
   "cell_type": "code",
   "execution_count": 8,
   "id": "44eae9ac",
   "metadata": {},
   "outputs": [
    {
     "data": {
      "text/plain": [
       "Unnamed: 0                     0\n",
       "ID                             0\n",
       "short_name                     0\n",
       "long_name                      0\n",
       "age                            0\n",
       "height_cm                      0\n",
       "weight_kg                      0\n",
       "nationality                    0\n",
       "club                           0\n",
       "overall                        0\n",
       "potential                      0\n",
       "value_eur                      0\n",
       "wage_eur                       0\n",
       "preferred_foot                 0\n",
       "international_reputation       0\n",
       "weak_foot                      0\n",
       "skill_moves                    0\n",
       "work_rate                      0\n",
       "body_type                      0\n",
       "release_clause_eur             0\n",
       "team_position                  0\n",
       "joined                      1048\n",
       "contract_valid_until           0\n",
       "pace                           0\n",
       "shooting                       0\n",
       "passing                        0\n",
       "dribbling                      0\n",
       "defending                      0\n",
       "physic                         0\n",
       "power_shot_power               0\n",
       "power_jumping                  0\n",
       "power_long_shots               0\n",
       "mentality_aggression           0\n",
       "mentality_interceptions        0\n",
       "mentality_penalties            0\n",
       "dtype: int64"
      ]
     },
     "execution_count": 8,
     "metadata": {},
     "output_type": "execute_result"
    }
   ],
   "source": [
    "# Check for missing values\n",
    "\n",
    "df_relationsip.isnull().sum()"
   ]
  },
  {
   "cell_type": "code",
   "execution_count": 9,
   "id": "ee6db0c2",
   "metadata": {},
   "outputs": [],
   "source": [
    "# Not needed for this analysis\n",
    "df_relationsip.drop(['joined'], axis=1, inplace=True)"
   ]
  },
  {
   "cell_type": "code",
   "execution_count": 10,
   "id": "3e03cecb",
   "metadata": {},
   "outputs": [],
   "source": [
    "dups = df_relationsip.duplicated()"
   ]
  },
  {
   "cell_type": "code",
   "execution_count": 11,
   "id": "2e99ceb2",
   "metadata": {},
   "outputs": [
    {
     "data": {
      "text/plain": [
       "(18038,)"
      ]
     },
     "execution_count": 11,
     "metadata": {},
     "output_type": "execute_result"
    }
   ],
   "source": [
    "dups.shape # No dups"
   ]
  },
  {
   "cell_type": "code",
   "execution_count": 12,
   "id": "9533fc76",
   "metadata": {},
   "outputs": [
    {
     "data": {
      "text/plain": [
       "Unnamed: 0                  0\n",
       "ID                          0\n",
       "short_name                  0\n",
       "long_name                   0\n",
       "age                         0\n",
       "height_cm                   0\n",
       "weight_kg                   0\n",
       "nationality                 0\n",
       "club                        0\n",
       "overall                     0\n",
       "potential                   0\n",
       "value_eur                   0\n",
       "wage_eur                    0\n",
       "preferred_foot              0\n",
       "international_reputation    0\n",
       "weak_foot                   0\n",
       "skill_moves                 0\n",
       "work_rate                   0\n",
       "body_type                   0\n",
       "release_clause_eur          0\n",
       "team_position               0\n",
       "contract_valid_until        0\n",
       "pace                        0\n",
       "shooting                    0\n",
       "passing                     0\n",
       "dribbling                   0\n",
       "defending                   0\n",
       "physic                      0\n",
       "power_shot_power            0\n",
       "power_jumping               0\n",
       "power_long_shots            0\n",
       "mentality_aggression        0\n",
       "mentality_interceptions     0\n",
       "mentality_penalties         0\n",
       "dtype: int64"
      ]
     },
     "execution_count": 12,
     "metadata": {},
     "output_type": "execute_result"
    }
   ],
   "source": [
    "# Check for missing values\n",
    "\n",
    "df_relationsip.isnull().sum()"
   ]
  },
  {
   "cell_type": "code",
   "execution_count": 13,
   "id": "712a5424",
   "metadata": {
    "scrolled": false
   },
   "outputs": [
    {
     "data": {
      "text/plain": [
       "<AxesSubplot:xlabel='value_eur', ylabel='Count'>"
      ]
     },
     "execution_count": 13,
     "metadata": {},
     "output_type": "execute_result"
    },
    {
     "data": {
      "image/png": "[encoded data removed]",
      "text/plain": [
       "<Figure size 432x288 with 1 Axes>"
      ]
     },
     "metadata": {
      "needs_background": "light"
     },
     "output_type": "display_data"
    }
   ],
   "source": [
    "sns.histplot(df_relationsip['value_eur'], bins=20, kde = True)\n",
    "# Some of the outliers in the high values may need to be removed, but let's try without doing so first."
   ]
  },
  {
   "cell_type": "markdown",
   "id": "12dd35de",
   "metadata": {},
   "source": [
    "#### The data is okay, no outrageous number"
   ]
  },
  {
   "cell_type": "code",
   "execution_count": 14,
   "id": "db564858",
   "metadata": {},
   "outputs": [
    {
     "data": {
      "text/plain": [
       "2517088.3689987804"
      ]
     },
     "execution_count": 14,
     "metadata": {},
     "output_type": "execute_result"
    }
   ],
   "source": [
    "df_relationsip['value_eur'].mean() # Check the mean"
   ]
  },
  {
   "cell_type": "code",
   "execution_count": 15,
   "id": "d061f153",
   "metadata": {},
   "outputs": [
    {
     "data": {
      "text/plain": [
       "725000.0"
      ]
     },
     "execution_count": 15,
     "metadata": {},
     "output_type": "execute_result"
    }
   ],
   "source": [
    "df_relationsip['value_eur'].median() # Check the median"
   ]
  },
  {
   "cell_type": "code",
   "execution_count": 16,
   "id": "19a38da1",
   "metadata": {},
   "outputs": [
    {
     "data": {
      "text/plain": [
       "105500000"
      ]
     },
     "execution_count": 16,
     "metadata": {},
     "output_type": "execute_result"
    }
   ],
   "source": [
    "df_relationsip['value_eur'].max() # Check the max"
   ]
  },
  {
   "cell_type": "markdown",
   "id": "770657a2",
   "metadata": {},
   "source": [
    "# 3. Data prep for regression analysis\n",
    "#### Value_eur and Potential"
   ]
  },
  {
   "cell_type": "code",
   "execution_count": 17,
   "id": "843a73ae",
   "metadata": {
    "scrolled": true
   },
   "outputs": [
    {
     "data": {
      "image/png": "[encoded data removed]",
      "text/plain": [
       "<Figure size 432x288 with 1 Axes>"
      ]
     },
     "metadata": {
      "needs_background": "light"
     },
     "output_type": "display_data"
    }
   ],
   "source": [
    "# Create a scatterplot using matplotlib for another look at how the chosen variables plot against each other.\n",
    "\n",
    "df_relationsip.plot(x = 'overall', y='wage_eur',style='o') # The style option creates a scatterplot; without it, we only have lines.\n",
    "plt.title('overall vs wage_eur')  \n",
    "plt.xlabel('overall')  \n",
    "plt.ylabel('wage_eur')  \n",
    "plt.show()"
   ]
  },
  {
   "cell_type": "code",
   "execution_count": 18,
   "id": "2c1febfe",
   "metadata": {},
   "outputs": [
    {
     "data": {
      "image/png": "[encoded data removed]",
      "text/plain": [
       "<Figure size 432x288 with 1 Axes>"
      ]
     },
     "metadata": {
      "needs_background": "light"
     },
     "output_type": "display_data"
    }
   ],
   "source": [
    "# Create a scatterplot using matplotlib for another look at how the chosen variables plot against each other.\n",
    "\n",
    "df_relationsip.plot(x = 'age', y='wage_eur',style='o') # The style option creates a scatterplot; without it, we only have lines.\n",
    "plt.title('age vs wage_eur')  \n",
    "plt.xlabel('ag')  \n",
    "plt.ylabel('wage_eur')  \n",
    "plt.show()"
   ]
  },
  {
   "cell_type": "code",
   "execution_count": 19,
   "id": "00bb06f8",
   "metadata": {},
   "outputs": [
    {
     "data": {
      "image/png": "[encoded data removed]",
      "text/plain": [
       "<Figure size 432x288 with 1 Axes>"
      ]
     },
     "metadata": {
      "needs_background": "light"
     },
     "output_type": "display_data"
    }
   ],
   "source": [
    "# Create a scatterplot using matplotlib for another look at how the chosen variables plot against each other.\n",
    "\n",
    "df_relationsip.plot(x = 'potential', y='wage_eur',style='o') # The style option creates a scatterplot; without it, we only have lines.\n",
    "plt.title('potential vs wage_eur')  \n",
    "plt.xlabel('potential')  \n",
    "plt.ylabel('wage_eur')  \n",
    "plt.show()"
   ]
  },
  {
   "cell_type": "markdown",
   "id": "b8a60007",
   "metadata": {},
   "source": [
    "### Hypothesis\n",
    "#### As player potential rises, so do their market value increases"
   ]
  },
  {
   "cell_type": "code",
   "execution_count": 20,
   "id": "8c99fd3a",
   "metadata": {},
   "outputs": [],
   "source": [
    "# Reshape the variables into NumPy arrays and put them into separate objects.\n",
    "\n",
    "X = df_relationsip[['overall','age','potential']].values\n",
    "y = df_relationsip['wage_eur'].values.reshape(-1,1)"
   ]
  },
  {
   "cell_type": "code",
   "execution_count": 21,
   "id": "09520883",
   "metadata": {},
   "outputs": [
    {
     "data": {
      "text/plain": [
       "(18038, 3)"
      ]
     },
     "execution_count": 21,
     "metadata": {},
     "output_type": "execute_result"
    }
   ],
   "source": [
    "X.shape"
   ]
  },
  {
   "cell_type": "code",
   "execution_count": 22,
   "id": "27650e8c",
   "metadata": {},
   "outputs": [
    {
     "data": {
      "text/plain": [
       "(18038, 1)"
      ]
     },
     "execution_count": 22,
     "metadata": {},
     "output_type": "execute_result"
    }
   ],
   "source": [
    "y.shape"
   ]
  },
  {
   "cell_type": "code",
   "execution_count": 23,
   "id": "4ea0993a",
   "metadata": {},
   "outputs": [
    {
     "data": {
      "text/plain": [
       "array([[94, 32, 94],\n",
       "       [93, 34, 93],\n",
       "       [92, 27, 92],\n",
       "       ...,\n",
       "       [48, 19, 56],\n",
       "       [48, 18, 54],\n",
       "       [48, 26, 51]], dtype=int64)"
      ]
     },
     "execution_count": 23,
     "metadata": {},
     "output_type": "execute_result"
    }
   ],
   "source": [
    "X"
   ]
  },
  {
   "cell_type": "code",
   "execution_count": 24,
   "id": "942e8975",
   "metadata": {},
   "outputs": [
    {
     "data": {
      "text/plain": [
       "array([[565000],\n",
       "       [405000],\n",
       "       [290000],\n",
       "       ...,\n",
       "       [  1000],\n",
       "       [  1000],\n",
       "       [  2000]], dtype=int64)"
      ]
     },
     "execution_count": 24,
     "metadata": {},
     "output_type": "execute_result"
    }
   ],
   "source": [
    "y"
   ]
  },
  {
   "cell_type": "code",
   "execution_count": 25,
   "id": "49de20eb",
   "metadata": {},
   "outputs": [],
   "source": [
    "# Split data into a training set and a test set.\n",
    "\n",
    "X_train, X_test, y_train, y_test = train_test_split(X, y, test_size=0.3, random_state=0)"
   ]
  },
  {
   "cell_type": "markdown",
   "id": "dbccc8b4",
   "metadata": {},
   "source": [
    "# 4. Regression analysis"
   ]
  },
  {
   "cell_type": "code",
   "execution_count": 26,
   "id": "cc437d00",
   "metadata": {},
   "outputs": [],
   "source": [
    "# Create a regression object.\n",
    "\n",
    "regression = LinearRegression()  # This is the regression object, which will be fit onto the training set."
   ]
  },
  {
   "cell_type": "code",
   "execution_count": 27,
   "id": "abd7c52c",
   "metadata": {},
   "outputs": [
    {
     "data": {
      "text/plain": [
       "LinearRegression()"
      ]
     },
     "execution_count": 27,
     "metadata": {},
     "output_type": "execute_result"
    }
   ],
   "source": [
    "# Fit the regression object onto the training set.\n",
    "\n",
    "regression.fit(X_train, y_train)"
   ]
  },
  {
   "cell_type": "code",
   "execution_count": 28,
   "id": "cfb14a01",
   "metadata": {},
   "outputs": [],
   "source": [
    "# Predict the values of y using X.\n",
    "\n",
    "y_predicted = regression.predict(X_test)"
   ]
  },
  {
   "cell_type": "code",
   "execution_count": 29,
   "id": "f1aebb81",
   "metadata": {},
   "outputs": [],
   "source": [
    "# Create objects that contain the model summary statistics.\n",
    "\n",
    "rmse = mean_squared_error(y_test, y_predicted) # This is the mean squared error\n",
    "r2 = r2_score(y_test, y_predicted) # This is the R2 score."
   ]
  },
  {
   "cell_type": "code",
   "execution_count": 33,
   "id": "f4f99b8f",
   "metadata": {
    "scrolled": true
   },
   "outputs": [
    {
     "name": "stdout",
     "output_type": "stream",
     "text": [
      "Slope: [[1645.41308393 -319.40627294  403.18212547]]\n",
      "Mean squared error:  278463809.24672455\n",
      "R2 score:  0.3759331806732328\n"
     ]
    }
   ],
   "source": [
    "# Print the model summary statistics. This is where you evaluate the performance of the model.\n",
    "\n",
    "print('Slope:' ,regression.coef_)\n",
    "print('Mean squared error: ', rmse)\n",
    "print('R2 score: ', r2)"
   ]
  },
  {
   "cell_type": "code",
   "execution_count": 32,
   "id": "9bb0a98d",
   "metadata": {},
   "outputs": [
    {
     "data": {
      "text/html": [
       "<div>\n",
       "<style scoped>\n",
       "    .dataframe tbody tr th:only-of-type {\n",
       "        vertical-align: middle;\n",
       "    }\n",
       "\n",
       "    .dataframe tbody tr th {\n",
       "        vertical-align: top;\n",
       "    }\n",
       "\n",
       "    .dataframe thead th {\n",
       "        text-align: right;\n",
       "    }\n",
       "</style>\n",
       "<table border=\"1\" class=\"dataframe\">\n",
       "  <thead>\n",
       "    <tr style=\"text-align: right;\">\n",
       "      <th></th>\n",
       "      <th>variable</th>\n",
       "      <th>coef</th>\n",
       "    </tr>\n",
       "  </thead>\n",
       "  <tbody>\n",
       "    <tr>\n",
       "      <th>0</th>\n",
       "      <td>[[94, 32, 94], [93, 34, 93], [92, 27, 92], [91...</td>\n",
       "      <td>[[1645.4130839292345, -319.4062729372661, 403....</td>\n",
       "    </tr>\n",
       "  </tbody>\n",
       "</table>\n",
       "</div>"
      ],
      "text/plain": [
       "                                            variable  \\\n",
       "0  [[94, 32, 94], [93, 34, 93], [92, 27, 92], [91...   \n",
       "\n",
       "                                                coef  \n",
       "0  [[1645.4130839292345, -319.4062729372661, 403....  "
      ]
     },
     "execution_count": 32,
     "metadata": {},
     "output_type": "execute_result"
    }
   ],
   "source": [
    "# Analysis of Coeficients\n",
    "coef_df = pd.DataFrame([X,regression.coef_], index=['variable', 'coef']).T\n",
    "coef_df.sort_values(by='coef', ascending=False)"
   ]
  },
  {
   "cell_type": "code",
   "execution_count": 30,
   "id": "df6df5d5",
   "metadata": {},
   "outputs": [
    {
     "data": {
      "text/plain": [
       "array([[34102.33895828],\n",
       "       [-6907.66891414],\n",
       "       [17107.44931931],\n",
       "       ...,\n",
       "       [18314.28614448],\n",
       "       [-6347.21311835],\n",
       "       [12620.064361  ]])"
      ]
     },
     "execution_count": 30,
     "metadata": {},
     "output_type": "execute_result"
    }
   ],
   "source": [
    "y_predicted"
   ]
  },
  {
   "cell_type": "code",
   "execution_count": 31,
   "id": "b4c9e817",
   "metadata": {
    "scrolled": false
   },
   "outputs": [
    {
     "data": {
      "text/html": [
       "<div>\n",
       "<style scoped>\n",
       "    .dataframe tbody tr th:only-of-type {\n",
       "        vertical-align: middle;\n",
       "    }\n",
       "\n",
       "    .dataframe tbody tr th {\n",
       "        vertical-align: top;\n",
       "    }\n",
       "\n",
       "    .dataframe thead th {\n",
       "        text-align: right;\n",
       "    }\n",
       "</style>\n",
       "<table border=\"1\" class=\"dataframe\">\n",
       "  <thead>\n",
       "    <tr style=\"text-align: right;\">\n",
       "      <th></th>\n",
       "      <th>Actual</th>\n",
       "      <th>Predicted</th>\n",
       "    </tr>\n",
       "  </thead>\n",
       "  <tbody>\n",
       "    <tr>\n",
       "      <th>0</th>\n",
       "      <td>35000</td>\n",
       "      <td>34102.338958</td>\n",
       "    </tr>\n",
       "    <tr>\n",
       "      <th>1</th>\n",
       "      <td>4000</td>\n",
       "      <td>-6907.668914</td>\n",
       "    </tr>\n",
       "    <tr>\n",
       "      <th>2</th>\n",
       "      <td>3000</td>\n",
       "      <td>17107.449319</td>\n",
       "    </tr>\n",
       "    <tr>\n",
       "      <th>3</th>\n",
       "      <td>2000</td>\n",
       "      <td>-18238.311800</td>\n",
       "    </tr>\n",
       "    <tr>\n",
       "      <th>4</th>\n",
       "      <td>1000</td>\n",
       "      <td>8203.467669</td>\n",
       "    </tr>\n",
       "    <tr>\n",
       "      <th>5</th>\n",
       "      <td>2000</td>\n",
       "      <td>-13938.175543</td>\n",
       "    </tr>\n",
       "    <tr>\n",
       "      <th>6</th>\n",
       "      <td>12000</td>\n",
       "      <td>17994.879872</td>\n",
       "    </tr>\n",
       "    <tr>\n",
       "      <th>7</th>\n",
       "      <td>4000</td>\n",
       "      <td>7871.073810</td>\n",
       "    </tr>\n",
       "    <tr>\n",
       "      <th>8</th>\n",
       "      <td>1000</td>\n",
       "      <td>1725.288182</td>\n",
       "    </tr>\n",
       "    <tr>\n",
       "      <th>9</th>\n",
       "      <td>1000</td>\n",
       "      <td>-84.967056</td>\n",
       "    </tr>\n",
       "    <tr>\n",
       "      <th>10</th>\n",
       "      <td>16000</td>\n",
       "      <td>31447.615785</td>\n",
       "    </tr>\n",
       "    <tr>\n",
       "      <th>11</th>\n",
       "      <td>28000</td>\n",
       "      <td>29401.730127</td>\n",
       "    </tr>\n",
       "    <tr>\n",
       "      <th>12</th>\n",
       "      <td>4000</td>\n",
       "      <td>2044.694455</td>\n",
       "    </tr>\n",
       "    <tr>\n",
       "      <th>13</th>\n",
       "      <td>22000</td>\n",
       "      <td>18127.037443</td>\n",
       "    </tr>\n",
       "    <tr>\n",
       "      <th>14</th>\n",
       "      <td>1000</td>\n",
       "      <td>-523.543314</td>\n",
       "    </tr>\n",
       "    <tr>\n",
       "      <th>15</th>\n",
       "      <td>1000</td>\n",
       "      <td>4057.895531</td>\n",
       "    </tr>\n",
       "    <tr>\n",
       "      <th>16</th>\n",
       "      <td>6000</td>\n",
       "      <td>12287.670502</td>\n",
       "    </tr>\n",
       "    <tr>\n",
       "      <th>17</th>\n",
       "      <td>20000</td>\n",
       "      <td>23821.259227</td>\n",
       "    </tr>\n",
       "    <tr>\n",
       "      <th>18</th>\n",
       "      <td>24000</td>\n",
       "      <td>22011.003989</td>\n",
       "    </tr>\n",
       "    <tr>\n",
       "      <th>19</th>\n",
       "      <td>5000</td>\n",
       "      <td>16065.454648</td>\n",
       "    </tr>\n",
       "    <tr>\n",
       "      <th>20</th>\n",
       "      <td>5000</td>\n",
       "      <td>9800.499034</td>\n",
       "    </tr>\n",
       "    <tr>\n",
       "      <th>21</th>\n",
       "      <td>5000</td>\n",
       "      <td>7751.903825</td>\n",
       "    </tr>\n",
       "    <tr>\n",
       "      <th>22</th>\n",
       "      <td>1000</td>\n",
       "      <td>2940.253661</td>\n",
       "    </tr>\n",
       "    <tr>\n",
       "      <th>23</th>\n",
       "      <td>1000</td>\n",
       "      <td>8074.019649</td>\n",
       "    </tr>\n",
       "    <tr>\n",
       "      <th>24</th>\n",
       "      <td>25000</td>\n",
       "      <td>24543.847625</td>\n",
       "    </tr>\n",
       "    <tr>\n",
       "      <th>25</th>\n",
       "      <td>1000</td>\n",
       "      <td>9086.039289</td>\n",
       "    </tr>\n",
       "    <tr>\n",
       "      <th>26</th>\n",
       "      <td>4000</td>\n",
       "      <td>8793.898496</td>\n",
       "    </tr>\n",
       "    <tr>\n",
       "      <th>27</th>\n",
       "      <td>2000</td>\n",
       "      <td>8109.413782</td>\n",
       "    </tr>\n",
       "    <tr>\n",
       "      <th>28</th>\n",
       "      <td>3000</td>\n",
       "      <td>5422.006027</td>\n",
       "    </tr>\n",
       "    <tr>\n",
       "      <th>29</th>\n",
       "      <td>1000</td>\n",
       "      <td>24581.951310</td>\n",
       "    </tr>\n",
       "  </tbody>\n",
       "</table>\n",
       "</div>"
      ],
      "text/plain": [
       "    Actual     Predicted\n",
       "0    35000  34102.338958\n",
       "1     4000  -6907.668914\n",
       "2     3000  17107.449319\n",
       "3     2000 -18238.311800\n",
       "4     1000   8203.467669\n",
       "5     2000 -13938.175543\n",
       "6    12000  17994.879872\n",
       "7     4000   7871.073810\n",
       "8     1000   1725.288182\n",
       "9     1000    -84.967056\n",
       "10   16000  31447.615785\n",
       "11   28000  29401.730127\n",
       "12    4000   2044.694455\n",
       "13   22000  18127.037443\n",
       "14    1000   -523.543314\n",
       "15    1000   4057.895531\n",
       "16    6000  12287.670502\n",
       "17   20000  23821.259227\n",
       "18   24000  22011.003989\n",
       "19    5000  16065.454648\n",
       "20    5000   9800.499034\n",
       "21    5000   7751.903825\n",
       "22    1000   2940.253661\n",
       "23    1000   8074.019649\n",
       "24   25000  24543.847625\n",
       "25    1000   9086.039289\n",
       "26    4000   8793.898496\n",
       "27    2000   8109.413782\n",
       "28    3000   5422.006027\n",
       "29    1000  24581.951310"
      ]
     },
     "execution_count": 31,
     "metadata": {},
     "output_type": "execute_result"
    }
   ],
   "source": [
    "# Create a dataframe comparing the actual and predicted values of y.\n",
    "\n",
    "data = pd.DataFrame({'Actual': y_test.flatten(), 'Predicted': y_predicted.flatten()})\n",
    "data.head(30)"
   ]
  },
  {
   "cell_type": "markdown",
   "id": "4e7c92ba",
   "metadata": {},
   "source": [
    "## Thoughts about how the model performed\n",
    "#### Note - The slope is a coefficient that tells you how the y variable changes when X changes. A negative slope value indicates a negative relationship (as X rises, y drops), and a positive slope indicates a positive relationship (as X rises, so does y). A coefficient of zero would mean that as X rises, y stays the same.\n",
    "#### The slope of the model above, shows the line moves in an upward direction that would suggest a positive correlation as the potential of players increases so does the price value of the player increases  but the actual data points seem to be on a constant '0' value.\n",
    "#### The MSE also shows how close a regression line is to a set of points but in this case the MSE value is high which means that it does not have a good fit.\n",
    "#### The R2 Score above also tells us that there is a weak negative correlation."
   ]
  },
  {
   "cell_type": "markdown",
   "id": "75046810",
   "metadata": {},
   "source": [
    "# Compare how the regression fits the training set"
   ]
  },
  {
   "cell_type": "code",
   "execution_count": 32,
   "id": "c4f804e1",
   "metadata": {},
   "outputs": [],
   "source": [
    "# Predict.\n",
    "\n",
    "y_predicted_train = regression.predict(X_train) # This is predicting X_train!"
   ]
  },
  {
   "cell_type": "code",
   "execution_count": 33,
   "id": "cc21ef2c",
   "metadata": {},
   "outputs": [],
   "source": [
    "rmse = mean_squared_error(y_train, y_predicted_train)\n",
    "r2 = r2_score(y_train, y_predicted_train)"
   ]
  },
  {
   "cell_type": "code",
   "execution_count": 34,
   "id": "e923aaed",
   "metadata": {
    "scrolled": true
   },
   "outputs": [
    {
     "name": "stdout",
     "output_type": "stream",
     "text": [
      "Slope: [[1645.41308393 -319.40627294  403.18212547]]\n",
      "Mean squared error:  304786311.2003792\n",
      "R2 score:  0.34728001341893855\n"
     ]
    }
   ],
   "source": [
    "print('Slope:' ,regression.coef_)\n",
    "print('Mean squared error: ', rmse)\n",
    "print('R2 score: ', r2)"
   ]
  },
  {
   "cell_type": "code",
   "execution_count": 34,
   "id": "12fdb7eb",
   "metadata": {
    "scrolled": true
   },
   "outputs": [
    {
     "data": {
      "image/png": "[encoded data removed]",
      "text/plain": [
       "<Figure size 432x288 with 1 Axes>"
      ]
     },
     "metadata": {
      "needs_background": "light"
     },
     "output_type": "display_data"
    }
   ],
   "source": [
    "# Create a plot that shows the regression line from the model on the test set.\n",
    "\n",
    "plot_test = plt\n",
    "plot_test.scatter(X_train, y_train, color='green', s = 15)\n",
    "plot_test.plot(X_train, y_predicted_train, color='red', linewidth =3)\n",
    "plot_test.title('potential vs value_eur (Test set)')\n",
    "plot_test.xlabel('potential')\n",
    "plot_test.ylabel('value_eur')\n",
    "plot_test.show()"
   ]
  },
  {
   "cell_type": "markdown",
   "id": "fdf7f301",
   "metadata": {},
   "source": [
    "## (do keep in mind that having a high R2 score on the train set and a much lower score on the test set likely means you’ve overfitted your model)\n",
    "## The training test is higher than the training set with no much difference (confirmed by an R2 score of 0.34) This means that i haven’t overfit the model! However, it also confirms that the relationship I'm exploring isn’t purely linear"
   ]
  },
  {
   "cell_type": "markdown",
   "id": "4ceb7e53",
   "metadata": {},
   "source": [
    "#  Checking the regression for wage and age"
   ]
  },
  {
   "cell_type": "markdown",
   "id": "e6fc5a0b",
   "metadata": {},
   "source": [
    "#### Extreme values checks"
   ]
  },
  {
   "cell_type": "code",
   "execution_count": 35,
   "id": "29b5300d",
   "metadata": {},
   "outputs": [
    {
     "data": {
      "text/plain": [
       "<AxesSubplot:xlabel='wage_eur', ylabel='Count'>"
      ]
     },
     "execution_count": 35,
     "metadata": {},
     "output_type": "execute_result"
    },
    {
     "data": {
      "image/png": "[encoded data removed]",
      "text/plain": [
       "<Figure size 432x288 with 1 Axes>"
      ]
     },
     "metadata": {
      "needs_background": "light"
     },
     "output_type": "display_data"
    }
   ],
   "source": [
    "sns.histplot(df_relationsip['wage_eur'], bins=20, kde = True)"
   ]
  },
  {
   "cell_type": "code",
   "execution_count": 36,
   "id": "8c32ffb1",
   "metadata": {},
   "outputs": [
    {
     "data": {
      "text/plain": [
       "9582.76970839339"
      ]
     },
     "execution_count": 36,
     "metadata": {},
     "output_type": "execute_result"
    }
   ],
   "source": [
    "df_relationsip['wage_eur'].mean() # Check the mean"
   ]
  },
  {
   "cell_type": "code",
   "execution_count": 37,
   "id": "203dcbcd",
   "metadata": {},
   "outputs": [
    {
     "data": {
      "text/plain": [
       "3000.0"
      ]
     },
     "execution_count": 37,
     "metadata": {},
     "output_type": "execute_result"
    }
   ],
   "source": [
    "df_relationsip['wage_eur'].median() # Check the mean"
   ]
  },
  {
   "cell_type": "code",
   "execution_count": 38,
   "id": "a1cc8c2f",
   "metadata": {},
   "outputs": [
    {
     "data": {
      "text/plain": [
       "565000"
      ]
     },
     "execution_count": 38,
     "metadata": {},
     "output_type": "execute_result"
    }
   ],
   "source": [
    "df_relationsip['wage_eur'].max() # Check the mean"
   ]
  },
  {
   "cell_type": "markdown",
   "id": "6f4158b2",
   "metadata": {},
   "source": [
    "# 3. Data prep for regression analysis"
   ]
  },
  {
   "cell_type": "code",
   "execution_count": 39,
   "id": "9a961d2d",
   "metadata": {
    "scrolled": false
   },
   "outputs": [
    {
     "data": {
      "image/png": "[encoded data removed]",
      "text/plain": [
       "<Figure size 432x288 with 1 Axes>"
      ]
     },
     "metadata": {
      "needs_background": "light"
     },
     "output_type": "display_data"
    }
   ],
   "source": [
    "df_relationsip.plot(x = 'age', y='wage_eur',style='o') # The style option creates a scatterplot; without it, we only have lines.\n",
    "plt.title('age vs wage_eur')  \n",
    "plt.xlabel('age')  \n",
    "plt.ylabel('wage_eur')  \n",
    "plt.show()"
   ]
  },
  {
   "cell_type": "markdown",
   "id": "978de608",
   "metadata": {},
   "source": [
    "## Hypothesis\n",
    "#### As the players get older, so do their wages decreases"
   ]
  },
  {
   "cell_type": "code",
   "execution_count": 40,
   "id": "654e118f",
   "metadata": {},
   "outputs": [],
   "source": [
    "# Reshape the variables into NumPy arrays and put them into separate objects.\n",
    "\n",
    "X_1 = df_relationsip['age'].values.reshape(-1,1)\n",
    "y_1 = df_relationsip['wage_eur'].values.reshape(-1,1)"
   ]
  },
  {
   "cell_type": "code",
   "execution_count": 41,
   "id": "d36827ba",
   "metadata": {
    "scrolled": true
   },
   "outputs": [
    {
     "data": {
      "text/plain": [
       "array([[32],\n",
       "       [34],\n",
       "       [27],\n",
       "       ...,\n",
       "       [19],\n",
       "       [18],\n",
       "       [26]], dtype=int64)"
      ]
     },
     "execution_count": 41,
     "metadata": {},
     "output_type": "execute_result"
    }
   ],
   "source": [
    "X_1"
   ]
  },
  {
   "cell_type": "code",
   "execution_count": 42,
   "id": "26ce7a8a",
   "metadata": {
    "scrolled": true
   },
   "outputs": [
    {
     "data": {
      "text/plain": [
       "array([[565000],\n",
       "       [405000],\n",
       "       [290000],\n",
       "       ...,\n",
       "       [  1000],\n",
       "       [  1000],\n",
       "       [  2000]], dtype=int64)"
      ]
     },
     "execution_count": 42,
     "metadata": {},
     "output_type": "execute_result"
    }
   ],
   "source": [
    "y_1"
   ]
  },
  {
   "cell_type": "code",
   "execution_count": 43,
   "id": "1685a1f2",
   "metadata": {},
   "outputs": [],
   "source": [
    "# Split data into a training set and a test set.\n",
    "\n",
    "X_1_train, X_1_test, y_1_train, y_1_test = train_test_split(X_1, y_1, test_size=0.3, random_state=0)"
   ]
  },
  {
   "cell_type": "markdown",
   "id": "4c3f490c",
   "metadata": {},
   "source": [
    "# Regression Analysis"
   ]
  },
  {
   "cell_type": "code",
   "execution_count": 44,
   "id": "56e6c7a4",
   "metadata": {},
   "outputs": [],
   "source": [
    "# Create a regression object.\n",
    "\n",
    "regression_1 = LinearRegression()  # This is the regression object, which will be fit onto the training set."
   ]
  },
  {
   "cell_type": "code",
   "execution_count": 45,
   "id": "df72252f",
   "metadata": {},
   "outputs": [
    {
     "data": {
      "text/plain": [
       "LinearRegression()"
      ]
     },
     "execution_count": 45,
     "metadata": {},
     "output_type": "execute_result"
    }
   ],
   "source": [
    "# Fit the regression object onto the training set.\n",
    "\n",
    "regression_1.fit(X_1_train, y_1_train)"
   ]
  },
  {
   "cell_type": "code",
   "execution_count": 46,
   "id": "565bb3a3",
   "metadata": {},
   "outputs": [],
   "source": [
    "# Predict the values of y using X.\n",
    "\n",
    "y_predicted_1 = regression_1.predict(X_1_test)"
   ]
  },
  {
   "cell_type": "code",
   "execution_count": 47,
   "id": "52267eb1",
   "metadata": {},
   "outputs": [
    {
     "data": {
      "image/png": "[encoded data removed]",
      "text/plain": [
       "<Figure size 432x288 with 1 Axes>"
      ]
     },
     "metadata": {
      "needs_background": "light"
     },
     "output_type": "display_data"
    }
   ],
   "source": [
    "# Create a plot that shows the regression line from the model on the test set.\n",
    "\n",
    "plot_test = plt\n",
    "plot_test.scatter(X_1_test, y_1_test, color='gray', s = 15)\n",
    "plot_test.plot(X_1_test, y_predicted_1, color='red', linewidth =3)\n",
    "plot_test.title('age vs wage_eur (Test set)')\n",
    "plot_test.xlabel('age')\n",
    "plot_test.ylabel('wage_eur')\n",
    "plot_test.show()"
   ]
  },
  {
   "cell_type": "code",
   "execution_count": 48,
   "id": "84355778",
   "metadata": {},
   "outputs": [],
   "source": [
    "# Create objects that contain the model summary statistics.\n",
    "\n",
    "rmse = mean_squared_error(y_1_test, y_predicted_1) # This is the mean squared error\n",
    "r2 = r2_score(y_1_test, y_predicted_1) # This is the R2 score. "
   ]
  },
  {
   "cell_type": "code",
   "execution_count": 49,
   "id": "0fb6630f",
   "metadata": {},
   "outputs": [
    {
     "name": "stdout",
     "output_type": "stream",
     "text": [
      "Slope: [[678.99595542]]\n",
      "Mean squared error:  431558927.77933675\n",
      "R2 score:  0.03283084383616841\n"
     ]
    }
   ],
   "source": [
    "# Print the model summary statistics. This is where you evaluate the performance of the model.\n",
    "\n",
    "print('Slope:' ,regression_1.coef_)\n",
    "print('Mean squared error: ', rmse)\n",
    "print('R2 score: ', r2)"
   ]
  },
  {
   "cell_type": "code",
   "execution_count": 50,
   "id": "84da3723",
   "metadata": {},
   "outputs": [
    {
     "data": {
      "text/plain": [
       "array([[ 7336.09690163],\n",
       "       [12768.06454499],\n",
       "       [ 8694.08881247],\n",
       "       ...,\n",
       "       [11410.07263415],\n",
       "       [ 5299.10903537],\n",
       "       [14805.05241125]])"
      ]
     },
     "execution_count": 50,
     "metadata": {},
     "output_type": "execute_result"
    }
   ],
   "source": [
    "y_predicted_1"
   ]
  },
  {
   "cell_type": "code",
   "execution_count": 51,
   "id": "3f20efab",
   "metadata": {
    "scrolled": true
   },
   "outputs": [
    {
     "data": {
      "text/html": [
       "<div>\n",
       "<style scoped>\n",
       "    .dataframe tbody tr th:only-of-type {\n",
       "        vertical-align: middle;\n",
       "    }\n",
       "\n",
       "    .dataframe tbody tr th {\n",
       "        vertical-align: top;\n",
       "    }\n",
       "\n",
       "    .dataframe thead th {\n",
       "        text-align: right;\n",
       "    }\n",
       "</style>\n",
       "<table border=\"1\" class=\"dataframe\">\n",
       "  <thead>\n",
       "    <tr style=\"text-align: right;\">\n",
       "      <th></th>\n",
       "      <th>Actual</th>\n",
       "      <th>Predicted</th>\n",
       "    </tr>\n",
       "  </thead>\n",
       "  <tbody>\n",
       "    <tr>\n",
       "      <th>0</th>\n",
       "      <td>35000</td>\n",
       "      <td>7336.096902</td>\n",
       "    </tr>\n",
       "    <tr>\n",
       "      <th>1</th>\n",
       "      <td>4000</td>\n",
       "      <td>12768.064545</td>\n",
       "    </tr>\n",
       "    <tr>\n",
       "      <th>2</th>\n",
       "      <td>3000</td>\n",
       "      <td>8694.088812</td>\n",
       "    </tr>\n",
       "    <tr>\n",
       "      <th>3</th>\n",
       "      <td>2000</td>\n",
       "      <td>8015.092857</td>\n",
       "    </tr>\n",
       "    <tr>\n",
       "      <th>4</th>\n",
       "      <td>1000</td>\n",
       "      <td>15484.048367</td>\n",
       "    </tr>\n",
       "    <tr>\n",
       "      <th>5</th>\n",
       "      <td>2000</td>\n",
       "      <td>6657.100946</td>\n",
       "    </tr>\n",
       "    <tr>\n",
       "      <th>6</th>\n",
       "      <td>12000</td>\n",
       "      <td>12089.068590</td>\n",
       "    </tr>\n",
       "    <tr>\n",
       "      <th>7</th>\n",
       "      <td>4000</td>\n",
       "      <td>10052.080723</td>\n",
       "    </tr>\n",
       "    <tr>\n",
       "      <th>8</th>\n",
       "      <td>1000</td>\n",
       "      <td>10052.080723</td>\n",
       "    </tr>\n",
       "    <tr>\n",
       "      <th>9</th>\n",
       "      <td>1000</td>\n",
       "      <td>5978.104991</td>\n",
       "    </tr>\n",
       "    <tr>\n",
       "      <th>10</th>\n",
       "      <td>16000</td>\n",
       "      <td>8694.088812</td>\n",
       "    </tr>\n",
       "    <tr>\n",
       "      <th>11</th>\n",
       "      <td>28000</td>\n",
       "      <td>5978.104991</td>\n",
       "    </tr>\n",
       "    <tr>\n",
       "      <th>12</th>\n",
       "      <td>4000</td>\n",
       "      <td>9373.084768</td>\n",
       "    </tr>\n",
       "    <tr>\n",
       "      <th>13</th>\n",
       "      <td>22000</td>\n",
       "      <td>16163.044322</td>\n",
       "    </tr>\n",
       "    <tr>\n",
       "      <th>14</th>\n",
       "      <td>1000</td>\n",
       "      <td>8694.088812</td>\n",
       "    </tr>\n",
       "    <tr>\n",
       "      <th>15</th>\n",
       "      <td>1000</td>\n",
       "      <td>12089.068590</td>\n",
       "    </tr>\n",
       "    <tr>\n",
       "      <th>16</th>\n",
       "      <td>6000</td>\n",
       "      <td>9373.084768</td>\n",
       "    </tr>\n",
       "    <tr>\n",
       "      <th>17</th>\n",
       "      <td>20000</td>\n",
       "      <td>12768.064545</td>\n",
       "    </tr>\n",
       "    <tr>\n",
       "      <th>18</th>\n",
       "      <td>24000</td>\n",
       "      <td>8694.088812</td>\n",
       "    </tr>\n",
       "    <tr>\n",
       "      <th>19</th>\n",
       "      <td>5000</td>\n",
       "      <td>10052.080723</td>\n",
       "    </tr>\n",
       "    <tr>\n",
       "      <th>20</th>\n",
       "      <td>5000</td>\n",
       "      <td>12089.068590</td>\n",
       "    </tr>\n",
       "    <tr>\n",
       "      <th>21</th>\n",
       "      <td>5000</td>\n",
       "      <td>12089.068590</td>\n",
       "    </tr>\n",
       "    <tr>\n",
       "      <th>22</th>\n",
       "      <td>1000</td>\n",
       "      <td>4620.113080</td>\n",
       "    </tr>\n",
       "    <tr>\n",
       "      <th>23</th>\n",
       "      <td>1000</td>\n",
       "      <td>8694.088812</td>\n",
       "    </tr>\n",
       "    <tr>\n",
       "      <th>24</th>\n",
       "      <td>25000</td>\n",
       "      <td>12089.068590</td>\n",
       "    </tr>\n",
       "    <tr>\n",
       "      <th>25</th>\n",
       "      <td>1000</td>\n",
       "      <td>4620.113080</td>\n",
       "    </tr>\n",
       "    <tr>\n",
       "      <th>26</th>\n",
       "      <td>4000</td>\n",
       "      <td>10731.076679</td>\n",
       "    </tr>\n",
       "    <tr>\n",
       "      <th>27</th>\n",
       "      <td>2000</td>\n",
       "      <td>5978.104991</td>\n",
       "    </tr>\n",
       "    <tr>\n",
       "      <th>28</th>\n",
       "      <td>3000</td>\n",
       "      <td>7336.096902</td>\n",
       "    </tr>\n",
       "    <tr>\n",
       "      <th>29</th>\n",
       "      <td>1000</td>\n",
       "      <td>6657.100946</td>\n",
       "    </tr>\n",
       "  </tbody>\n",
       "</table>\n",
       "</div>"
      ],
      "text/plain": [
       "    Actual     Predicted\n",
       "0    35000   7336.096902\n",
       "1     4000  12768.064545\n",
       "2     3000   8694.088812\n",
       "3     2000   8015.092857\n",
       "4     1000  15484.048367\n",
       "5     2000   6657.100946\n",
       "6    12000  12089.068590\n",
       "7     4000  10052.080723\n",
       "8     1000  10052.080723\n",
       "9     1000   5978.104991\n",
       "10   16000   8694.088812\n",
       "11   28000   5978.104991\n",
       "12    4000   9373.084768\n",
       "13   22000  16163.044322\n",
       "14    1000   8694.088812\n",
       "15    1000  12089.068590\n",
       "16    6000   9373.084768\n",
       "17   20000  12768.064545\n",
       "18   24000   8694.088812\n",
       "19    5000  10052.080723\n",
       "20    5000  12089.068590\n",
       "21    5000  12089.068590\n",
       "22    1000   4620.113080\n",
       "23    1000   8694.088812\n",
       "24   25000  12089.068590\n",
       "25    1000   4620.113080\n",
       "26    4000  10731.076679\n",
       "27    2000   5978.104991\n",
       "28    3000   7336.096902\n",
       "29    1000   6657.100946"
      ]
     },
     "execution_count": 51,
     "metadata": {},
     "output_type": "execute_result"
    }
   ],
   "source": [
    "# Create a dataframe comparing the actual and predicted values of y.\n",
    "\n",
    "data = pd.DataFrame({'Actual': y_1_test.flatten(), 'Predicted': y_predicted_1.flatten()})\n",
    "data.head(30)"
   ]
  },
  {
   "cell_type": "markdown",
   "id": "feb91130",
   "metadata": {},
   "source": [
    "## Thoughts about how the model performed\n",
    "#### The slope of the model above, shows as the age increases but stays constant at 0 and still has a negative correlation\n",
    "#### The MSE also shows that the regression line isn’t an accurate representation of the data, it's distance is farther away from the regression line\n",
    "#### The R2 Score above also tells us that there is a weak negative correlation."
   ]
  },
  {
   "cell_type": "markdown",
   "id": "7b270d1c",
   "metadata": {},
   "source": [
    "# Compare how the regression fits the training set between age and wage"
   ]
  },
  {
   "cell_type": "code",
   "execution_count": 52,
   "id": "30dcb7ce",
   "metadata": {},
   "outputs": [],
   "source": [
    "# Predict.\n",
    "\n",
    "y_predicted_train_1 = regression_1.predict(X_1_train) # This is predicting X_1_train!"
   ]
  },
  {
   "cell_type": "code",
   "execution_count": 53,
   "id": "f9f525da",
   "metadata": {},
   "outputs": [],
   "source": [
    "rmse = mean_squared_error(y_1_train, y_predicted_train_1)\n",
    "r2 = r2_score(y_1_train, y_predicted_train_1)"
   ]
  },
  {
   "cell_type": "code",
   "execution_count": 54,
   "id": "9d4622f3",
   "metadata": {},
   "outputs": [
    {
     "name": "stdout",
     "output_type": "stream",
     "text": [
      "Slope: [[678.99595542]]\n",
      "Mean squared error:  457031567.26983225\n",
      "R2 score:  0.021236756727690986\n"
     ]
    }
   ],
   "source": [
    "print('Slope:' ,regression_1.coef_)\n",
    "print('Mean squared error: ', rmse)\n",
    "print('R2 score: ', r2)"
   ]
  },
  {
   "cell_type": "code",
   "execution_count": 55,
   "id": "88badab0",
   "metadata": {},
   "outputs": [
    {
     "data": {
      "image/png": "[encoded data removed]",
      "text/plain": [
       "<Figure size 432x288 with 1 Axes>"
      ]
     },
     "metadata": {
      "needs_background": "light"
     },
     "output_type": "display_data"
    }
   ],
   "source": [
    "# Visualizing the training set results.\n",
    "\n",
    "plot_test = plt\n",
    "plot_test.scatter(X_1_train, y_1_train, color='green', s = 15)\n",
    "plot_test.plot(X_1_train, y_predicted_train_1, color='red', linewidth =3)\n",
    "plot_test.title('age vs wage_eur (Test set)')\n",
    "plot_test.xlabel('age')\n",
    "plot_test.ylabel('wage_eur')\n",
    "plot_test.show()"
   ]
  },
  {
   "cell_type": "markdown",
   "id": "a839a7bd",
   "metadata": {},
   "source": [
    "## There is much difference between the test set and the training set (confirmed by an R2 score of 0.021) this means that the data is overfitted"
   ]
  },
  {
   "cell_type": "code",
   "execution_count": null,
   "id": "4f89a86b",
   "metadata": {},
   "outputs": [],
   "source": []
  }
 ],
 "metadata": {
  "kernelspec": {
   "display_name": "Python 3 (ipykernel)",
   "language": "python",
   "name": "python3"
  },
  "language_info": {
   "codemirror_mode": {
    "name": "ipython",
    "version": 3
   },
   "file_extension": ".py",
   "mimetype": "text/x-python",
   "name": "python",
   "nbconvert_exporter": "python",
   "pygments_lexer": "ipython3",
   "version": "3.9.7"
  }
 },
 "nbformat": 4,
 "nbformat_minor": 5
}
